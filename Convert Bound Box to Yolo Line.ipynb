{
 "cells": [
  {
   "cell_type": "code",
   "execution_count": null,
   "id": "1d877965",
   "metadata": {},
   "outputs": [],
   "source": [
    "def BndBox2YoloLine(self, box, classList=[]):\n",
    "    xmin = box['xmin']\n",
    "    xmax = box['xmax']\n",
    "    ymin = box['ymin']\n",
    "    ymax = box['ymax']\n",
    "    \n",
    "    xcen = float((xmin + xmax)) / 2 / self.imgSize[1]\n",
    "    ycen = float((ymin + ymax)) / 2 / self.imgSize[0]\n",
    "    \n",
    "    w = float((xmax - xmin)) / self.imgSize[1]\n",
    "    h = float((ymax - ymin)) / self.imgSize[0]\n",
    "    \n",
    "    # PR387\n",
    "    boxName = box['name']\n",
    "    if boxName not in classList:\n",
    "        classList.append(boxName)\n",
    "    \n",
    "    classIndex = classList.index(boxName)\n",
    "    \n",
    "    return classIndex, xcen, ycen, w, h"
   ]
  }
 ],
 "metadata": {
  "kernelspec": {
   "display_name": "Python 3 (ipykernel)",
   "language": "python",
   "name": "python3"
  },
  "language_info": {
   "codemirror_mode": {
    "name": "ipython",
    "version": 3
   },
   "file_extension": ".py",
   "mimetype": "text/x-python",
   "name": "python",
   "nbconvert_exporter": "python",
   "pygments_lexer": "ipython3",
   "version": "3.9.13"
  }
 },
 "nbformat": 4,
 "nbformat_minor": 5
}
